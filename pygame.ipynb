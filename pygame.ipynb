{
 "cells": [
  {
   "cell_type": "markdown",
   "metadata": {},
   "source": [
    "# PYGAME"
   ]
  },
  {
   "cell_type": "markdown",
   "metadata": {},
   "source": [
    "## Create_Frame.py"
   ]
  },
  {
   "cell_type": "code",
   "execution_count": 2,
   "metadata": {
    "ExecuteTime": {
     "end_time": "2020-09-26T11:42:35.305103Z",
     "start_time": "2020-09-26T11:42:35.254404Z"
    }
   },
   "outputs": [
    {
     "name": "stdout",
     "output_type": "stream",
     "text": [
      "pygame 1.9.6\n",
      "Hello from the pygame community. https://www.pygame.org/contribute.html\n"
     ]
    }
   ],
   "source": [
    "import pygame"
   ]
  },
  {
   "cell_type": "code",
   "execution_count": 3,
   "metadata": {
    "ExecuteTime": {
     "end_time": "2020-09-26T11:42:36.680565Z",
     "start_time": "2020-09-26T11:42:36.295098Z"
    }
   },
   "outputs": [
    {
     "data": {
      "text/plain": [
       "(6, 0)"
      ]
     },
     "execution_count": 3,
     "metadata": {},
     "output_type": "execute_result"
    }
   ],
   "source": [
    "# 초기화 (반드시 필요)\n",
    "pygame.init()"
   ]
  },
  {
   "cell_type": "code",
   "execution_count": 4,
   "metadata": {
    "ExecuteTime": {
     "end_time": "2020-09-26T11:42:37.493188Z",
     "start_time": "2020-09-26T11:42:37.352195Z"
    }
   },
   "outputs": [],
   "source": [
    "# 화면 크기 설정 \n",
    "screen_width = 480 # 가로 크기 \n",
    "screen_height = 640 # 세로 크기 \n",
    "screen = pygame.display.set_mode((screen_width, screen_height))"
   ]
  },
  {
   "cell_type": "code",
   "execution_count": 5,
   "metadata": {
    "ExecuteTime": {
     "end_time": "2020-09-26T11:42:38.610308Z",
     "start_time": "2020-09-26T11:42:38.606349Z"
    }
   },
   "outputs": [],
   "source": [
    "# 화면 타이틀 설정 \n",
    "pygame.display.set_caption(\"Nado Game\") # 게임 이름 "
   ]
  },
  {
   "cell_type": "code",
   "execution_count": 6,
   "metadata": {
    "ExecuteTime": {
     "end_time": "2020-09-26T11:43:02.894376Z",
     "start_time": "2020-09-26T11:42:41.753174Z"
    }
   },
   "outputs": [],
   "source": [
    "# 이벤트 루프 \n",
    "running = True # 게임이 진행중인가? \n",
    "while running:\n",
    "    for event in pygame.event.get():\n",
    "        # 필수적 요소 pygame.event \n",
    "        # 어떤 이벤트가 발생하였는가? \n",
    "        if event.type == pygame.QUIT:\n",
    "            # event 가 QUIT 이라면 -> x 버튼 눌러서 pygame 종료 했을 때, \n",
    "            # 창이 닫히는 이벤트가 발생하였는가? \n",
    "            running = False # 게임이 진행중이 아님 \n",
    "\n",
    "# pygame 종료 \n",
    "pygame.quit()"
   ]
  },
  {
   "cell_type": "markdown",
   "metadata": {},
   "source": [
    "##  Background.py"
   ]
  },
  {
   "cell_type": "code",
   "execution_count": 12,
   "metadata": {
    "ExecuteTime": {
     "end_time": "2020-09-26T11:56:36.440070Z",
     "start_time": "2020-09-26T11:56:31.983323Z"
    }
   },
   "outputs": [],
   "source": [
    "import pygame\n",
    "# 초기화 (반드시 필요)\n",
    "pygame.init()\n",
    "\n",
    "# 화면 크기 설정 \n",
    "screen_width = 480 # 가로 크기 \n",
    "screen_height = 640 # 세로 크기 \n",
    "screen = pygame.display.set_mode((screen_width, screen_height))\n",
    "\n",
    "# 화면 타이틀 설정 \n",
    "pygame.display.set_caption(\"Nado Game\") # 게임 이름 \n",
    "\n",
    "# 배경 이미지 불러오기 \n",
    "# cmd - mspaint # 그림판 - 픽셀 크기 설정 ((가로, 세로) = (480,640))\n",
    "background = pygame.image.load(\"C:/Users/Sung/Desktop/Pygame/background.png\")\n",
    "\n",
    "# 이벤트 루프 \n",
    "running = True # 게임이 진행중인가? \n",
    "while running:\n",
    "    for event in pygame.event.get(): # 어떤 이벤트가 발생하였는가? \n",
    "        if event.type == pygame.QUIT: # 창이 닫히는 이벤트가 발생하였는가? \n",
    "            running = False # 게임이 진행중이 아님 \n",
    "            \n",
    "    # 배경 그리기\n",
    "    # screen.fill((0,0,255)) # RGB 값으로 화면을 채울 수 있음 \n",
    "    screen.blit(background, (0,0)) # 튜플 형식으로 어디에 위치할지 좌표를 찍어줌 (0,0) 맨 왼쪽 \n",
    "    \n",
    "    pygame.display.update() # 게임화면을 다시 그리기! (계속 호출되야 하는 부분) \n",
    "\n",
    "# pygame 종료 \n",
    "pygame.quit()"
   ]
  },
  {
   "cell_type": "markdown",
   "metadata": {},
   "source": [
    "## main_sprite.py"
   ]
  },
  {
   "cell_type": "code",
   "execution_count": 18,
   "metadata": {
    "ExecuteTime": {
     "end_time": "2020-09-26T12:10:27.159960Z",
     "start_time": "2020-09-26T12:10:21.313839Z"
    }
   },
   "outputs": [],
   "source": [
    "import pygame\n",
    "# 초기화 (반드시 필요)\n",
    "pygame.init()\n",
    "\n",
    "# 화면 크기 설정 \n",
    "screen_width = 480 # 가로 크기 \n",
    "screen_height = 640 # 세로 크기 \n",
    "screen = pygame.display.set_mode((screen_width, screen_height))\n",
    "\n",
    "# 화면 타이틀 설정 \n",
    "pygame.display.set_caption(\"Nado Game\") # 게임 이름 \n",
    "\n",
    "# 배경 이미지 불러오기 \n",
    "background = pygame.image.load(\"C:/Users/Sung/Desktop/Pygame/background.png\")\n",
    "\n",
    "# 캐릭터(스프라이트) 불러오기\n",
    "character = pygame.image.load(\"C:/Users/Sung/Desktop/Pygame/character.png\")\n",
    "character_size = character.get_rect().size # rectangle # 캐릭터 이미지의 크기를 구해옴 \n",
    "character_width = character_size[0] # 캐릭터의 가록 크기 - 0의 위치에 해당하는 값이 width \n",
    "character_height = character_size[1] # 캐릭터의 세로 크기 \n",
    "character_x_pos = (screen_width / 2) - (character_width / 2) # (가로  위치)  좌우 기준 위치 -> 화면 가로의 절반 크기에 해당하는 곳에 위치\n",
    "character_y_pos = screen_height - character_height # (세로 위치)화면 세로 크기 가장 아래에 위치  \n",
    "\n",
    "# 이벤트 루프 \n",
    "running = True # 게임이 진행중인가? \n",
    "while running:\n",
    "    for event in pygame.event.get(): # 어떤 이벤트가 발생하였는가? \n",
    "        if event.type == pygame.QUIT: # 창이 닫히는 이벤트가 발생하였는가? \n",
    "            running = False # 게임이 진행중이 아님 \n",
    "            \n",
    "    # 배경 그리기\n",
    "    screen.blit(background, (0,0)) # 튜플 형식으로 어디에 위치할지 좌표를 찍어줌 (0,0) 맨 왼쪽 \n",
    "    \n",
    "    screen.blit(character, (character_x_pos, character_y_pos)) #캐릭터 그리기 \n",
    "    \n",
    "    pygame.display.update() # 게임화면을 다시 그리기! (계속 호출되야 하는 부분) \n",
    "\n",
    "# pygame 종료 \n",
    "pygame.quit()"
   ]
  },
  {
   "cell_type": "markdown",
   "metadata": {},
   "source": [
    "## Keyboard_event.py"
   ]
  },
  {
   "cell_type": "code",
   "execution_count": 23,
   "metadata": {
    "ExecuteTime": {
     "end_time": "2020-09-26T12:54:18.934635Z",
     "start_time": "2020-09-26T12:54:15.814541Z"
    }
   },
   "outputs": [],
   "source": [
    "import pygame\n",
    "# 초기화 (반드시 필요)\n",
    "pygame.init()\n",
    "\n",
    "# 화면 크기 설정 \n",
    "screen_width = 480 # 가로 크기 \n",
    "screen_height = 640 # 세로 크기 \n",
    "screen = pygame.display.set_mode((screen_width, screen_height))\n",
    "\n",
    "# 화면 타이틀 설정 \n",
    "pygame.display.set_caption(\"Nado Game\") # 게임 이름 \n",
    "\n",
    "# 배경 이미지 불러오기 \n",
    "background = pygame.image.load(\"C:/Users/Sung/Desktop/Pygame/background.png\")\n",
    "\n",
    "# 캐릭터(스프라이트) 불러오기\n",
    "character = pygame.image.load(\"C:/Users/Sung/Desktop/Pygame/character.png\")\n",
    "character_size = character.get_rect().size # rectangle # 캐릭터 이미지의 크기를 구해옴 \n",
    "character_width = character_size[0] # 캐릭터의 가록 크기 - 0의 위치에 해당하는 값이 width \n",
    "character_height = character_size[1] # 캐릭터의 세로 크기 \n",
    "character_x_pos = (screen_width / 2) - (character_width / 2) # (가로  위치)  좌우 기준 위치 -> 화면 가로의 절반 크기에 해당하는 곳에 위치\n",
    "character_y_pos = screen_height - character_height # (세로 위치)화면 세로 크기 가장 아래에 위치  \n",
    "\n",
    "# 이동할 좌표 \n",
    "to_x = 0\n",
    "to_y = 0\n",
    "\n",
    "\n",
    "\n",
    "# 이벤트 루프 \n",
    "running = True # 게임이 진행중인가? \n",
    "while running:\n",
    "    for event in pygame.event.get(): # 어떤 이벤트가 발생하였는가? \n",
    "        if event.type == pygame.QUIT: # 창이 닫히는 이벤트가 발생하였는가? \n",
    "            running = False # 게임이 진행중이 아님 \n",
    "        \n",
    "        if event.type == pygame.KEYDOWN: # 키가 누러졌는지 확인 \n",
    "            if event.key == pygame.K_LEFT: # 캐릭터를 왼쪽으로 \n",
    "                to_x -= 5 # to_x = to_x - 5\n",
    "            elif event.key == pygame.K_RIGHT: # 캐릭터를 오른쪽으로 \n",
    "                to_x += 5 \n",
    "            elif event.key == pygame.K_UP: # 캐릭터를 위로 \n",
    "                to_y -= 5 \n",
    "            elif event.key == pygame.K_DOWN: # 캐릭터를 아래로 \n",
    "                to_y += 5 \n",
    "        \n",
    "        if event.type == pygame.KEYUP : # 방향키를 떼면 멈춤 \n",
    "            if event.key == pygame.K_LEFT or event.key == pygame.K_RIGHT: \n",
    "                to_x = 0\n",
    "            elif event.key == pygame.K_UP or event.key == pygame.K_DOWN: \n",
    "                to_y = 0    \n",
    "    \n",
    "    character_x_pos += to_x \n",
    "    character_y_pos += to_y\n",
    "    \n",
    "    # 가로 경게값 처리 \n",
    "    if character_x_pos < 0:\n",
    "        character_x_pos = 0\n",
    "    elif character_x_pos > screen_width - character_width:\n",
    "        character_x_pos = screen_width - character_width \n",
    "        \n",
    "    # 세로 경계값 처리 \n",
    "    if character_y_pos < 0:\n",
    "        character_y_pos = 0\n",
    "    elif character_y_pos > screen_height - character_height:\n",
    "        character_y_pos = screen_height - character_height\n",
    "        \n",
    "    \n",
    "    \n",
    "    screen.blit(background, (0,0)) # 배경 그리기 \n",
    "    \n",
    "    screen.blit(character, (character_x_pos, character_y_pos))\n",
    "    \n",
    "    pygame.display.update() # 게임화면을 다시 그리기! (계속 호출되야 하는 부분) \n",
    "\n",
    "# pygame 종료 \n",
    "pygame.quit()"
   ]
  },
  {
   "cell_type": "markdown",
   "metadata": {},
   "source": [
    "##  Frame_per_second.py"
   ]
  },
  {
   "cell_type": "code",
   "execution_count": 38,
   "metadata": {
    "ExecuteTime": {
     "end_time": "2020-09-26T13:10:40.544172Z",
     "start_time": "2020-09-26T13:10:36.531872Z"
    },
    "scrolled": true
   },
   "outputs": [],
   "source": [
    "# 초당 frame 수 \n",
    "# frame 수가 높으면 화면이 부드럽고, 캐릭터 이동이 부드러움 \n",
    "\n",
    "import pygame\n",
    "# 초기화 (반드시 필요)\n",
    "pygame.init()\n",
    "\n",
    "# 화면 크기 설정 \n",
    "screen_width = 480 # 가로 크기 \n",
    "screen_height = 640 # 세로 크기 \n",
    "screen = pygame.display.set_mode((screen_width, screen_height))\n",
    "\n",
    "# 화면 타이틀 설정 \n",
    "pygame.display.set_caption(\"Nado Game\") # 게임 이름 \n",
    "\n",
    "# FPS \n",
    "clock = pygame.time.Clock()\n",
    "\n",
    "# 배경 이미지 불러오기 \n",
    "background = pygame.image.load(\"C:/Users/Sung/Desktop/Pygame/background.png\")\n",
    "\n",
    "# 캐릭터(스프라이트) 불러오기\n",
    "character = pygame.image.load(\"C:/Users/Sung/Desktop/Pygame/character.png\")\n",
    "character_size = character.get_rect().size # rectangle # 캐릭터 이미지의 크기를 구해옴 \n",
    "character_width = character_size[0] # 캐릭터의 가록 크기 - 0의 위치에 해당하는 값이 width \n",
    "character_height = character_size[1] # 캐릭터의 세로 크기 \n",
    "character_x_pos = (screen_width / 2) - (character_width / 2) # (가로  위치)  좌우 기준 위치 -> 화면 가로의 절반 크기에 해당하는 곳에 위치\n",
    "character_y_pos = screen_height - character_height # (세로 위치)화면 세로 크기 가장 아래에 위치  \n",
    "\n",
    "# 이동할 좌표 \n",
    "to_x = 0\n",
    "to_y = 0\n",
    "\n",
    "# 이동 속도 \n",
    "character_speed = 0.6\n",
    "\n",
    "# 이벤트 루프 \n",
    "running = True # 게임이 진행중인가? \n",
    "while running:\n",
    "    dt = clock.tick(30) # 게임 화면의 초당 프레임 수를 설정 / # frame per second \n",
    "\n",
    "# 캐릭터가 1초 동안에 100만큼 이동을 해야 함 \n",
    "# 10 fps : 1초 동안에 10번 동작 -> 1번에 몇 만큼 이동? 10만큼! 10 *10 = 100 \n",
    "# 20 fps : 1초 동안에 20번 동작 -> 1번에 5만큼! 5 *20 = 100\n",
    "    \n",
    "    # print(\"fps: \" + str(clock.get_fps()))\n",
    "    \n",
    "    for event in pygame.event.get(): # 어떤 이벤트가 발생하였는가? \n",
    "        if event.type == pygame.QUIT: # 창이 닫히는 이벤트가 발생하였는가? \n",
    "            running = False # 게임이 진행중이 아님 \n",
    "        \n",
    "        if event.type == pygame.KEYDOWN: # 키가 누러졌는지 확인 \n",
    "            if event.key == pygame.K_LEFT: # 캐릭터를 왼쪽으로 \n",
    "                to_x -= character_speed # to_x = to_x - 5\n",
    "            elif event.key == pygame.K_RIGHT: # 캐릭터를 오른쪽으로 \n",
    "                to_x += character_speed \n",
    "            elif event.key == pygame.K_UP: # 캐릭터를 위로 \n",
    "                to_y -= character_speed \n",
    "            elif event.key == pygame.K_DOWN: # 캐릭터를 아래로 \n",
    "                to_y += character_speed \n",
    "        \n",
    "        if event.type == pygame.KEYUP : # 방향키를 떼면 멈춤 \n",
    "            if event.key == pygame.K_LEFT or event.key == pygame.K_RIGHT: \n",
    "                to_x = 0\n",
    "            elif event.key == pygame.K_UP or event.key == pygame.K_DOWN: \n",
    "                to_y = 0    \n",
    "    \n",
    "    character_x_pos += to_x * dt # frame 별로 바뀌는 속도를 보완 \n",
    "    character_y_pos += to_y * dt \n",
    "    \n",
    "    # 가로 경게값 처리 \n",
    "    if character_x_pos < 0:\n",
    "        character_x_pos = 0\n",
    "    elif character_x_pos > screen_width - character_width:\n",
    "        character_x_pos = screen_width - character_width \n",
    "        \n",
    "    # 세로 경계값 처리 \n",
    "    if character_y_pos < 0:\n",
    "        character_y_pos = 0\n",
    "    elif character_y_pos > screen_height - character_height:\n",
    "        character_y_pos = screen_height - character_height\n",
    "        \n",
    "    \n",
    "    \n",
    "    screen.blit(background, (0,0)) # 배경 그리기 \n",
    "    \n",
    "    screen.blit(character, (character_x_pos, character_y_pos))\n",
    "    \n",
    "    pygame.display.update() # 게임화면을 다시 그리기! (계속 호출되야 하는 부분) \n",
    "\n",
    "# pygame 종료 \n",
    "pygame.quit()"
   ]
  },
  {
   "cell_type": "markdown",
   "metadata": {},
   "source": [
    "## Collision.py"
   ]
  },
  {
   "cell_type": "code",
   "execution_count": null,
   "metadata": {},
   "outputs": [],
   "source": [
    "# 초당 frame 수 \n",
    "# frame 수가 높으면 화면이 부드럽고, 캐릭터 이동이 부드러움 \n",
    "\n",
    "import pygame\n",
    "# 초기화 (반드시 필요)\n",
    "pygame.init()\n",
    "\n",
    "# 화면 크기 설정 \n",
    "screen_width = 480 # 가로 크기 \n",
    "screen_height = 640 # 세로 크기 \n",
    "screen = pygame.display.set_mode((screen_width, screen_height))\n",
    "\n",
    "# 화면 타이틀 설정 \n",
    "pygame.display.set_caption(\"Nado Game\") # 게임 이름 \n",
    "\n",
    "# FPS \n",
    "clock = pygame.time.Clock()\n",
    "\n",
    "# 배경 이미지 불러오기 \n",
    "background = pygame.image.load(\"C:/Users/Sung/Desktop/Pygame/background.png\")\n",
    "\n",
    "# 캐릭터(스프라이트) 불러오기\n",
    "character = pygame.image.load(\"C:/Users/Sung/Desktop/Pygame/character.png\")\n",
    "character_size = character.get_rect().size # rectangle # 캐릭터 이미지의 크기를 구해옴 \n",
    "character_width = character_size[0] # 캐릭터의 가록 크기 - 0의 위치에 해당하는 값이 width \n",
    "character_height = character_size[1] # 캐릭터의 세로 크기 \n",
    "character_x_pos = (screen_width / 2) - (character_width / 2) # (가로  위치)  좌우 기준 위치 -> 화면 가로의 절반 크기에 해당하는 곳에 위치\n",
    "character_y_pos = screen_height - character_height # (세로 위치)화면 세로 크기 가장 아래에 위치  \n",
    "\n",
    "# 이동할 좌표 \n",
    "to_x = 0\n",
    "to_y = 0\n",
    "\n",
    "# 이동 속도 \n",
    "character_speed = 0.6\n",
    "\n",
    "# 이벤트 루프 \n",
    "running = True # 게임이 진행중인가? \n",
    "while running:\n",
    "    dt = clock.tick(30) # 게임 화면의 초당 프레임 수를 설정 / # frame per second \n",
    "\n",
    "# 캐릭터가 1초 동안에 100만큼 이동을 해야 함 \n",
    "# 10 fps : 1초 동안에 10번 동작 -> 1번에 몇 만큼 이동? 10만큼! 10 *10 = 100 \n",
    "# 20 fps : 1초 동안에 20번 동작 -> 1번에 5만큼! 5 *20 = 100\n",
    "    \n",
    "    # print(\"fps: \" + str(clock.get_fps()))\n",
    "    \n",
    "    for event in pygame.event.get(): # 어떤 이벤트가 발생하였는가? \n",
    "        if event.type == pygame.QUIT: # 창이 닫히는 이벤트가 발생하였는가? \n",
    "            running = False # 게임이 진행중이 아님 \n",
    "        \n",
    "        if event.type == pygame.KEYDOWN: # 키가 누러졌는지 확인 \n",
    "            if event.key == pygame.K_LEFT: # 캐릭터를 왼쪽으로 \n",
    "                to_x -= character_speed # to_x = to_x - 5\n",
    "            elif event.key == pygame.K_RIGHT: # 캐릭터를 오른쪽으로 \n",
    "                to_x += character_speed \n",
    "            elif event.key == pygame.K_UP: # 캐릭터를 위로 \n",
    "                to_y -= character_speed \n",
    "            elif event.key == pygame.K_DOWN: # 캐릭터를 아래로 \n",
    "                to_y += character_speed \n",
    "        \n",
    "        if event.type == pygame.KEYUP : # 방향키를 떼면 멈춤 \n",
    "            if event.key == pygame.K_LEFT or event.key == pygame.K_RIGHT: \n",
    "                to_x = 0\n",
    "            elif event.key == pygame.K_UP or event.key == pygame.K_DOWN: \n",
    "                to_y = 0    \n",
    "    \n",
    "    character_x_pos += to_x * dt # frame 별로 바뀌는 속도를 보완 \n",
    "    character_y_pos += to_y * dt \n",
    "    \n",
    "    # 가로 경게값 처리 \n",
    "    if character_x_pos < 0:\n",
    "        character_x_pos = 0\n",
    "    elif character_x_pos > screen_width - character_width:\n",
    "        character_x_pos = screen_width - character_width \n",
    "        \n",
    "    # 세로 경계값 처리 \n",
    "    if character_y_pos < 0:\n",
    "        character_y_pos = 0\n",
    "    elif character_y_pos > screen_height - character_height:\n",
    "        character_y_pos = screen_height - character_height\n",
    "        \n",
    "    \n",
    "    \n",
    "    screen.blit(background, (0,0)) # 배경 그리기 \n",
    "    \n",
    "    screen.blit(character, (character_x_pos, character_y_pos))\n",
    "    \n",
    "    pygame.display.update() # 게임화면을 다시 그리기! (계속 호출되야 하는 부분) \n",
    "\n",
    "# pygame 종료 \n",
    "pygame.quit()"
   ]
  }
 ],
 "metadata": {
  "kernelspec": {
   "display_name": "Python 3",
   "language": "python",
   "name": "python3"
  },
  "language_info": {
   "codemirror_mode": {
    "name": "ipython",
    "version": 3
   },
   "file_extension": ".py",
   "mimetype": "text/x-python",
   "name": "python",
   "nbconvert_exporter": "python",
   "pygments_lexer": "ipython3",
   "version": "3.7.8"
  },
  "toc": {
   "base_numbering": 1,
   "nav_menu": {},
   "number_sections": true,
   "sideBar": true,
   "skip_h1_title": false,
   "title_cell": "Table of Contents",
   "title_sidebar": "Contents",
   "toc_cell": false,
   "toc_position": {
    "height": "calc(100% - 180px)",
    "left": "10px",
    "top": "150px",
    "width": "307.2px"
   },
   "toc_section_display": true,
   "toc_window_display": true
  },
  "varInspector": {
   "cols": {
    "lenName": 16,
    "lenType": 16,
    "lenVar": 40
   },
   "kernels_config": {
    "python": {
     "delete_cmd_postfix": "",
     "delete_cmd_prefix": "del ",
     "library": "var_list.py",
     "varRefreshCmd": "print(var_dic_list())"
    },
    "r": {
     "delete_cmd_postfix": ") ",
     "delete_cmd_prefix": "rm(",
     "library": "var_list.r",
     "varRefreshCmd": "cat(var_dic_list()) "
    }
   },
   "types_to_exclude": [
    "module",
    "function",
    "builtin_function_or_method",
    "instance",
    "_Feature"
   ],
   "window_display": false
  }
 },
 "nbformat": 4,
 "nbformat_minor": 4
}
